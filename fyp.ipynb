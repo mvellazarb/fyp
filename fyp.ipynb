{
 "cells": [
  {
   "cell_type": "code",
   "execution_count": 97,
   "metadata": {},
   "outputs": [],
   "source": [
    "%matplotlib notebook\n",
    "\n",
    "import numpy as np\n",
    "import matplotlib.pyplot as plt\n",
    "import pandas as pd\n",
    "from sklearn.cluster import KMeans\n",
    "\n",
    "# load BLM data file\n",
    "# stored in a DataFrame variable\n",
    "blmData = pd.read_csv('data/Fill_6953_start_ramp.txt', sep=' ', header=None)"
   ]
  },
  {
   "cell_type": "code",
   "execution_count": 98,
   "metadata": {},
   "outputs": [],
   "source": [
    "# Delete first column (contains timestamps)\n",
    "blmData = blmData.drop(columns=0)"
   ]
  },
  {
   "cell_type": "code",
   "execution_count": 100,
   "metadata": {},
   "outputs": [],
   "source": [
    "# Get row with max BLM value in the whole table\n",
    "\n",
    "blmMax = blmData.max() # Series: column num (i.e. BLM num) -> maximum value for that column\n",
    "blmMaxOverall = blmData.values.max() # max BLM value in the whole dataset\n",
    "rowIndexWithBlmMaxOverall = blmData.idxmax()[blmMax[blmMax == blmMaxOverall].index]\n",
    "\n",
    "rowWithBlmMaxOverall = blmData.loc[rowIndexWithBlmMaxOverall]\n",
    "\n",
    "#TODO what if more than one row contains the same blmMaxOverall?"
   ]
  },
  {
   "cell_type": "code",
   "execution_count": null,
   "metadata": {},
   "outputs": [],
   "source": []
  }
 ],
 "metadata": {
  "kernelspec": {
   "display_name": "Python 3",
   "language": "python",
   "name": "python3"
  },
  "language_info": {
   "codemirror_mode": {
    "name": "ipython",
    "version": 3
   },
   "file_extension": ".py",
   "mimetype": "text/x-python",
   "name": "python",
   "nbconvert_exporter": "python",
   "pygments_lexer": "ipython3",
   "version": "3.7.1"
  }
 },
 "nbformat": 4,
 "nbformat_minor": 2
}
